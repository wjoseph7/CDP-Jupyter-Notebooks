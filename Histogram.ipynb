{
 "cells": [
  {
   "cell_type": "code",
   "execution_count": 2,
   "metadata": {},
   "outputs": [],
   "source": [
    "#import matplotlib and initialize lists\n",
    "import matplotlib.pyplot as plt\n",
    "\n",
    "ER = []\n",
    "CL = []"
   ]
  },
  {
   "cell_type": "code",
   "execution_count": 3,
   "metadata": {},
   "outputs": [
    {
     "name": "stdout",
     "output_type": "stream",
     "text": [
      "\n",
      "\n"
     ]
    }
   ],
   "source": [
    "#This reads the data from a file, the data is a bunch of floating point numbers seperated by commas.\n",
    "with open(\"ERKarate.hist\",\"r\") as f:\n",
    "    line = f.readlines()    #Read the data into a list. Each item in the list is a line.\n",
    "    line = line[0]          #Since our data is seperated by spaces we only have one line.\n",
    "    line = line.split(\" \")  #Split the data by spaces.\n",
    "    \n",
    "    #Here we covert all the numbers which are stored as characters to floats. I put this inside a try catch loop\n",
    "    #so we can see if a particular value gives us an error.\n",
    "    for val in line:\n",
    "        try:\n",
    "            ER.append(float(val))\n",
    "        except:\n",
    "            print(val)\n",
    "    #Remember to close the file.\n",
    "    f.close()\n",
    "\n",
    "#This does the same thing but for the Chung-Lu distribution.\n",
    "with open(\"CLKarate.hist\",\"r\") as f:\n",
    "    line = f.readlines()\n",
    "    line = line[0]\n",
    "    line = line.split(\" \")\n",
    "    for val in line:\n",
    "        try:\n",
    "            CL.append(float(val))\n",
    "        except:\n",
    "            print(val)\n",
    "    f.close()"
   ]
  },
  {
   "cell_type": "code",
   "execution_count": 4,
   "metadata": {},
   "outputs": [
    {
     "data": {
      "image/png": "[encoded data removed]",
      "text/plain": [
       "<Figure size 432x288 with 1 Axes>"
      ]
     },
     "metadata": {
      "needs_background": "light"
     },
     "output_type": "display_data"
    }
   ],
   "source": [
    "#This creates two histograms of the data in the same plot. The alpha parameter defines the translucency of our plot.\n",
    "plt.hist(ER, alpha=0.5, label='Erdos-Renyi')\n",
    "plt.hist(CL, alpha=0.5, label='Chung-Lu')\n",
    "\n",
    "#Here's the reference likelihood we want to compare to our two distributions. axvline plots a vertical line.\n",
    "plt.axvline(-179.389197,color='r')                                                                                                                                                                          \n",
    "\n",
    "plt.title(\"Karate Club\")\n",
    "\n",
    "plt.xlabel(\"Likelihood\")\n",
    "plt.ylabel(\"Frequency\")\n",
    "\n",
    "#The creates a legend and places it in the upper right corner.\n",
    "plt.legend(loc='upper right')\n",
    "\n",
    "#If we weren't using Jupyter notebooks we would need this line to view the histogram.\n",
    "plt.show()"
   ]
  },
  {
   "cell_type": "markdown",
   "metadata": {},
   "source": [
    "Pretty cool looking huh? We see that the likelihood that the Karate Club exhibits core-periphery structure is between the Erdos-Renyi and Chung-Lu disbributions. It leans closer to the Chung-Lu but still does not beat it with any meaningful p value (such as p=0.04)."
   ]
  }
 ],
 "metadata": {
  "kernelspec": {
   "display_name": "Python 3",
   "language": "python",
   "name": "python3"
  },
  "language_info": {
   "codemirror_mode": {
    "name": "ipython",
    "version": 3
   },
   "file_extension": ".py",
   "mimetype": "text/x-python",
   "name": "python",
   "nbconvert_exporter": "python",
   "pygments_lexer": "ipython3",
   "version": "3.6.7"
  }
 },
 "nbformat": 4,
 "nbformat_minor": 2
}
