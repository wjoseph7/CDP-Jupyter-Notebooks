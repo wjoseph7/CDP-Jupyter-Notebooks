{
 "cells": [
  {
   "cell_type": "markdown",
   "metadata": {},
   "source": [
    "First we're going to use the UC Irvince cancer prognosis dataset. The goal of this dataset is to create a regression model to predict the recurrence time of breast cancer patients, the time it takes for the cancer to recur. \n",
    "\n",
    "Don't worry about the setup. We're focusing on the visualizations for now. Later you're going to get a chance to work very closely with this dataset."
   ]
  },
  {
   "cell_type": "code",
   "execution_count": 21,
   "metadata": {},
   "outputs": [],
   "source": [
    "import numpy as np\n",
    "import pandas as pd\n",
    "import matplotlib.pyplot as plt\n",
    "import sklearn.linear_model as sk\n",
    "import scipy.stats as stats"
   ]
  },
  {
   "cell_type": "code",
   "execution_count": 22,
   "metadata": {},
   "outputs": [],
   "source": [
    "cols = [\"id\",\"outcome\",\"time\"]                                                                       \n",
    "for i in range(32):                                                                                  \n",
    "    cols.append(str(i))  "
   ]
  },
  {
   "cell_type": "code",
   "execution_count": 23,
   "metadata": {},
   "outputs": [],
   "source": [
    "df = pd.read_csv(\"wpbc.data\",header=None,names=cols)"
   ]
  },
  {
   "cell_type": "code",
   "execution_count": 24,
   "metadata": {},
   "outputs": [
    {
     "name": "stdout",
     "output_type": "stream",
     "text": [
      "          id outcome  time      0      1       2       3        4        5  \\\n",
      "0     119513       N    31  18.02  27.60  117.50  1013.0  0.09489  0.10360   \n",
      "1       8423       N    61  17.99  10.38  122.80  1001.0  0.11840  0.27760   \n",
      "2     842517       N   116  21.37  17.44  137.50  1373.0  0.08836  0.11890   \n",
      "3     843483       N   123  11.42  20.38   77.58   386.1  0.14250  0.28390   \n",
      "4     843584       R    27  20.29  14.34  135.10  1297.0  0.10030  0.13280   \n",
      "5     843786       R    77  12.75  15.29   84.60   502.7  0.11890  0.15690   \n",
      "6     844359       N    60  18.98  19.61  124.40  1112.0  0.09087  0.12370   \n",
      "7     844582       R    77  13.71  20.83   90.20   577.9  0.11890  0.16450   \n",
      "8     844981       N   119  13.00  21.82   87.50   519.8  0.12730  0.19320   \n",
      "9     845010       N    76  12.46  24.04   83.97   475.9  0.11860  0.23960   \n",
      "10    845636       N   123  16.02  23.24  102.70   797.8  0.08206  0.06669   \n",
      "11    846100       N   125  15.78  17.89  103.60   781.0  0.09710  0.12920   \n",
      "12    846381       N   117  15.85  23.95  103.70   782.7  0.08401  0.10020   \n",
      "13    847990       R    36  14.54  27.54   96.73   658.8  0.11390  0.15950   \n",
      "14    848406       N   123  14.68  20.13   94.74   684.5  0.09867  0.07200   \n",
      "15    848620       R    10  16.13  20.68  108.10   798.8  0.11700  0.20220   \n",
      "16   8511133       N    20  15.34  14.26  102.50   704.4  0.10730  0.21350   \n",
      "17    851509       R    10  21.16  23.04  137.20  1404.0  0.09428  0.10220   \n",
      "18    852552       N    96  16.65  21.38  110.00   904.6  0.11210  0.14570   \n",
      "19    852631       N   116  17.14  16.40  116.00   912.7  0.11860  0.22760   \n",
      "20    852763       N   103  14.58  21.53   97.41   644.8  0.10540  0.18680   \n",
      "21    852781       N    16  18.61  20.25  122.10  1094.0  0.09440  0.10660   \n",
      "22    852973       N    52  15.30  25.27  102.40   732.4  0.10820  0.16970   \n",
      "23    853201       N    94  17.57  15.05  115.00   955.1  0.09847  0.11570   \n",
      "24    853612       N   116  11.84  18.70   77.93   440.6  0.11090  0.15160   \n",
      "25    853826       N    87  17.02  23.98  112.80   899.3  0.11970  0.14960   \n",
      "26    854002       N    53  19.27  26.47  127.90  1162.0  0.09401  0.17190   \n",
      "27    854039       N   109  16.13  17.88  107.00   807.2  0.10400  0.15590   \n",
      "28    854253       N    12  16.74  21.59  110.10   869.5  0.09610  0.13360   \n",
      "29    854268       N    31  14.25  21.72   93.63   633.0  0.09823  0.10980   \n",
      "..       ...     ...   ...    ...    ...     ...     ...      ...      ...   \n",
      "168   925622       N    30  15.22  30.62  103.40   716.9  0.10480  0.20870   \n",
      "169   926125       N    17  20.92  25.09  143.00  1347.0  0.10990  0.22360   \n",
      "170   926424       N    28  21.56  22.39  142.00  1479.0  0.11100  0.11590   \n",
      "171   926682       N    20  20.13  28.25  131.20  1261.0  0.09780  0.10340   \n",
      "172   926954       N    16  16.60  28.08  108.30   858.1  0.08455  0.10230   \n",
      "173   927992       N    26  13.86  23.83   89.60   595.8  0.10670  0.08318   \n",
      "174   927997       N    27  18.11  26.17  118.70   970.2  0.09867  0.17160   \n",
      "175   928594       N    29  21.93  30.64  146.70  1487.0  0.08679  0.17230   \n",
      "176   929684       R    14  17.53  25.28  114.00   966.6  0.09278  0.09175   \n",
      "177   931652       R     1  18.11  30.99  115.80   984.4  0.08625  0.09240   \n",
      "178   931678       N    24  24.29  25.48  161.80  1715.0  0.09374  0.22840   \n",
      "179   935058       N    13  15.60  26.79   99.85   760.0  0.07885  0.05240   \n",
      "180   935878       N    13  15.78  17.10  102.20   769.0  0.09668  0.09030   \n",
      "181   937100       N    12  19.28  20.88  124.90  1127.0  0.09033  0.11970   \n",
      "182   937653       N    15  15.66  24.51  102.00   771.1  0.08886  0.08731   \n",
      "183   937654       N    11  22.44  27.42  150.60  1504.0  0.12110  0.20820   \n",
      "184   937664       N    17  17.98  23.96  120.00   995.0  0.11570  0.17390   \n",
      "185   937897       N    17  13.63  24.70   89.65   569.2  0.10550  0.13120   \n",
      "186   938225       N     9  23.01  33.87  156.80  1705.0  0.11570  0.19480   \n",
      "187   938412       N    10  22.41  29.95  145.50  1528.0  0.11190  0.16990   \n",
      "188   938413       N    15  12.53  30.98   80.41   490.9  0.09252  0.06271   \n",
      "189   939095       N     6  19.80  20.46  130.20  1235.0  0.09652  0.10770   \n",
      "190   939426       N     8  19.96  27.41  130.80  1238.0  0.09075  0.11670   \n",
      "191  9411286       N     3  19.22  27.18  128.80  1134.0  0.10900  0.17770   \n",
      "192  9411300       N     3  14.72  25.26   99.28   657.5  0.11740  0.21120   \n",
      "193   942640       N    10  22.52  21.92  146.90  1597.0  0.07592  0.09162   \n",
      "194   943471       N     8  15.44  31.18  101.00   740.4  0.09399  0.10620   \n",
      "195    94547       N    12  17.17  29.19  110.00   915.3  0.08952  0.06655   \n",
      "196   947204       R     3  21.42  22.84  145.00  1440.0  0.10700  0.19390   \n",
      "197   947489       N     6  16.70  28.13  110.30   885.4  0.08896  0.11310   \n",
      "\n",
      "           6 ...      22      23       24       25       26       27      28  \\\n",
      "0    0.10860 ...  139.70  1436.0  0.11950  0.19260  0.31400  0.11700  0.2677   \n",
      "1    0.30010 ...  184.60  2019.0  0.16220  0.66560  0.71190  0.26540  0.4601   \n",
      "2    0.12550 ...  159.10  1949.0  0.11880  0.34490  0.34140  0.20320  0.4334   \n",
      "3    0.24140 ...   98.87   567.7  0.20980  0.86630  0.68690  0.25750  0.6638   \n",
      "4    0.19800 ...  152.20  1575.0  0.13740  0.20500  0.40000  0.16250  0.2364   \n",
      "5    0.16640 ...  107.30   733.2  0.17060  0.41960  0.59990  0.17090  0.3485   \n",
      "6    0.12130 ...  152.60  1593.0  0.11440  0.33710  0.29900  0.19220  0.2726   \n",
      "7    0.09366 ...  110.60   897.0  0.16540  0.36820  0.26780  0.15560  0.3196   \n",
      "8    0.18590 ...  106.20   739.3  0.17030  0.54010  0.53900  0.20600  0.4378   \n",
      "9    0.22730 ...   97.65   711.4  0.18530  1.05800  1.10500  0.22100  0.4366   \n",
      "10   0.03299 ...  123.80  1150.0  0.11810  0.15510  0.14590  0.09975  0.2948   \n",
      "11   0.09954 ...  136.50  1299.0  0.13960  0.56090  0.39650  0.18100  0.3792   \n",
      "12   0.09938 ...  112.00   876.5  0.11310  0.19240  0.23220  0.11190  0.2809   \n",
      "13   0.16390 ...  124.10   943.2  0.16780  0.65770  0.70260  0.17120  0.4218   \n",
      "14   0.07395 ...  123.40  1138.0  0.14640  0.18710  0.29140  0.16090  0.3029   \n",
      "15   0.17220 ...  136.80  1315.0  0.17890  0.42330  0.47840  0.20730  0.3706   \n",
      "16   0.20770 ...  125.10   980.9  0.13900  0.59540  0.63050  0.23930  0.4667   \n",
      "17   0.10970 ...  188.00  2615.0  0.14010  0.26000  0.31550  0.20090  0.2822   \n",
      "18   0.15250 ...  177.00  2215.0  0.18050  0.35780  0.46950  0.20950  0.3613   \n",
      "19   0.22290 ...  152.40  1461.0  0.15450  0.39490  0.38530  0.25500  0.4066   \n",
      "20   0.14250 ...  122.40   896.9  0.15250  0.66430  0.55390  0.27010  0.4264   \n",
      "21   0.14900 ...  139.90  1403.0  0.13380  0.21170  0.34460  0.14900  0.2341   \n",
      "22   0.16830 ...  149.30  1269.0  0.16410  0.61100  0.63350  0.20240  0.4027   \n",
      "23   0.09875 ...  134.90  1227.0  0.12550  0.28120  0.24890  0.14560  0.2756   \n",
      "24   0.12180 ...  119.40   888.7  0.16370  0.57750  0.69560  0.15460  0.4761   \n",
      "25   0.24170 ...  136.10  1344.0  0.16340  0.35590  0.55880  0.18470  0.3530   \n",
      "26   0.16570 ...  161.40  1813.0  0.15090  0.65900  0.60910  0.17850  0.3672   \n",
      "27   0.13540 ...  132.70  1261.0  0.14460  0.58040  0.52740  0.18640  0.4270   \n",
      "28   0.13480 ...  133.50  1229.0  0.15630  0.38350  0.54090  0.18130  0.4863   \n",
      "29   0.13190 ...  116.20   799.6  0.14460  0.42380  0.51860  0.14470  0.3591   \n",
      "..       ... ...     ...     ...      ...      ...      ...      ...     ...   \n",
      "168  0.25500 ...  128.70   915.0  0.14170  0.79170  1.17000  0.23560  0.4089   \n",
      "169  0.31740 ...  179.10  1819.0  0.14070  0.41860  0.65990  0.25420  0.2929   \n",
      "170  0.24390 ...  166.10  2027.0  0.14100  0.21130  0.41070  0.22160  0.2060   \n",
      "171  0.14400 ...  155.00  1731.0  0.11660  0.19220  0.32150  0.16280  0.2572   \n",
      "172  0.09251 ...  126.70  1124.0  0.11390  0.30940  0.34030  0.14180  0.2218   \n",
      "173  0.07671 ...  101.20   730.6  0.14670  0.12790  0.16770  0.11140  0.2180   \n",
      "174  0.21770 ...  145.10  1251.0  0.14640  0.51270  0.87740  0.26030  0.3941   \n",
      "175  0.20530 ...  171.50  1951.0  0.11680  0.40720  0.44940  0.18860  0.2784   \n",
      "176  0.11050 ...  142.60  1483.0  0.12870  0.24720  0.27530  0.13720  0.2404   \n",
      "177  0.06214 ...  128.00  1214.0  0.11940  0.20880  0.23850  0.13330  0.2652   \n",
      "178  0.27020 ...  184.80  2213.0  0.12470  0.39350  0.61180  0.20630  0.3983   \n",
      "179  0.03778 ...  117.20  1027.0  0.10970  0.09745  0.12630  0.08222  0.2805   \n",
      "180  0.07268 ...  111.70   921.4  0.13860  0.26400  0.29010  0.12340  0.3261   \n",
      "181  0.06435 ...  130.00  1214.0  0.09273  0.12590  0.08201  0.11160  0.2147   \n",
      "182  0.09483 ...  124.00  1066.0  0.11820  0.24860  0.35080  0.12730  0.2964   \n",
      "183  0.35790 ...  161.20  1689.0  0.13300  0.25800  0.47410  0.21350  0.2809   \n",
      "184  0.19540 ...  135.20  1225.0  0.13400  0.26060  0.31240  0.17530  0.2746   \n",
      "185  0.11610 ...  107.70   712.2  0.15540  0.35150  0.34090  0.16890  0.2739   \n",
      "186  0.29790 ...  197.80  2481.0  0.14320  0.28950  0.49370  0.21100  0.2774   \n",
      "187  0.30760 ...  194.50  2690.0  0.12510  0.38320  0.58420  0.24220  0.2729   \n",
      "188  0.06151 ...   96.75   694.6  0.15600  0.13580  0.24360  0.12590  0.3292   \n",
      "189  0.15990 ...  155.10  1623.0  0.13730  0.23680  0.39310  0.18400  0.2382   \n",
      "190  0.13550 ...  150.30  1603.0  0.12930  0.25130  0.41060  0.16380  0.2245   \n",
      "191  0.21380 ...  161.00  1565.0  0.15010  0.51300  0.68410  0.20990  0.3484   \n",
      "192  0.17290 ...  111.60   814.8  0.14640  0.53520  0.56550  0.19740  0.3778   \n",
      "193  0.06862 ...  162.10  1902.0  0.08191  0.13190  0.10560  0.09378  0.2061   \n",
      "194  0.13750 ...  112.60   929.0  0.12720  0.23620  0.29750  0.12860  0.2914   \n",
      "195  0.06583 ...  132.50  1295.0  0.12610  0.15720  0.21410  0.09520  0.3362   \n",
      "196  0.23800 ...  198.30  2375.0  0.14980  0.43790  0.54110  0.22150  0.2832   \n",
      "197  0.10120 ...  128.80  1213.0  0.13300  0.28080  0.34550  0.13170  0.3035   \n",
      "\n",
      "          29    30  31  \n",
      "0    0.08113   5.0   5  \n",
      "1    0.11890   3.0   2  \n",
      "2    0.09067   2.5   0  \n",
      "3    0.17300   2.0   0  \n",
      "4    0.07678   3.5   0  \n",
      "5    0.11790   2.5   0  \n",
      "6    0.09581   1.5   ?  \n",
      "7    0.11510   4.0  10  \n",
      "8    0.10720   2.0   1  \n",
      "9    0.20750   6.0  20  \n",
      "10   0.08452   2.0   0  \n",
      "11   0.10480   1.4   0  \n",
      "12   0.06287   1.0   0  \n",
      "13   0.13410   6.0   6  \n",
      "14   0.08216   1.1   0  \n",
      "15   0.11420   3.0   1  \n",
      "16   0.09946   1.3   0  \n",
      "17   0.07526   4.0   1  \n",
      "18   0.09564   3.0   0  \n",
      "19   0.10590   4.4   1  \n",
      "20   0.12750   2.5   0  \n",
      "21   0.07421   3.4  13  \n",
      "22   0.09876   2.0   0  \n",
      "23   0.07919   4.0   0  \n",
      "24   0.14020   3.0   2  \n",
      "25   0.08482   1.3   1  \n",
      "26   0.11230   3.5   0  \n",
      "27   0.12330   2.5   0  \n",
      "28   0.08633   1.5   ?  \n",
      "29   0.10140   3.0  13  \n",
      "..       ...   ...  ..  \n",
      "168  0.14090   2.5   0  \n",
      "169  0.09873   1.5   0  \n",
      "170  0.07115   1.2   0  \n",
      "171  0.06637   1.0   0  \n",
      "172  0.07820   3.5   1  \n",
      "173  0.06057   1.5   1  \n",
      "174  0.09318   2.4   2  \n",
      "175  0.07353   3.5   0  \n",
      "176  0.07156  10.0   9  \n",
      "177  0.07006   2.7   4  \n",
      "178  0.07978   1.2   0  \n",
      "179  0.06378   2.0   2  \n",
      "180  0.07752   0.8   0  \n",
      "181  0.05644   2.5   0  \n",
      "182  0.06591   2.0   4  \n",
      "183  0.06318   1.0   0  \n",
      "184  0.07830   2.5   0  \n",
      "185  0.09945   2.0   0  \n",
      "186  0.07542   4.0   0  \n",
      "187  0.09391   1.0   1  \n",
      "188  0.09406   3.0   7  \n",
      "189  0.06831   2.1   2  \n",
      "190  0.07842   4.0   0  \n",
      "191  0.09774   0.8   1  \n",
      "192  0.11320   1.7  21  \n",
      "193  0.05788   6.0   2  \n",
      "194  0.08024   1.5   0  \n",
      "195  0.06033   3.7   0  \n",
      "196  0.08981   3.0   ?  \n",
      "197  0.08036   3.5   0  \n",
      "\n",
      "[198 rows x 35 columns]\n"
     ]
    }
   ],
   "source": [
    "print(df)"
   ]
  },
  {
   "cell_type": "code",
   "execution_count": 25,
   "metadata": {},
   "outputs": [
    {
     "data": {
      "text/plain": [
       "Text(0, 0.5, 'Recurrence Time')"
      ]
     },
     "execution_count": 25,
     "metadata": {},
     "output_type": "execute_result"
    },
    {
     "data": {
      "image/png": "[encoded data removed]",
      "text/plain": [
       "<Figure size 432x288 with 1 Axes>"
      ]
     },
     "metadata": {
      "needs_background": "light"
     },
     "output_type": "display_data"
    }
   ],
   "source": [
    "#making a scatter plot with matplotlib is very easy\n",
    "\n",
    "plt.scatter(df['0'],df['time'])\n",
    "plt.xlabel(\"Radius\")\n",
    "plt.ylabel(\"Recurrence Time\")"
   ]
  },
  {
   "cell_type": "markdown",
   "metadata": {},
   "source": [
    "Lets make a linear model and look at the residuals"
   ]
  },
  {
   "cell_type": "code",
   "execution_count": 26,
   "metadata": {},
   "outputs": [],
   "source": [
    "#Make linear model\n",
    "X = df.drop(\"time\", axis=1)\n",
    "y = df['time']\n",
    "lm = sk.LinearRegression()\n",
    "fit=lm.fit(X[[\"0\"]],y)"
   ]
  },
  {
   "cell_type": "markdown",
   "metadata": {},
   "source": [
    "We can print out the diagnostics from our regression in one nice figure!"
   ]
  },
  {
   "cell_type": "code",
   "execution_count": 33,
   "metadata": {},
   "outputs": [
    {
     "data": {
      "image/png": "[encoded data removed]",
      "text/plain": [
       "<Figure size 432x288 with 4 Axes>"
      ]
     },
     "metadata": {
      "needs_background": "light"
     },
     "output_type": "display_data"
    }
   ],
   "source": [
    "#Diagnostics\n",
    "residuals = y-lm.predict(X[['0']])  #compute  residuals\n",
    "\n",
    "fig, ax = plt.subplots(nrows=2, ncols=2)   #create figure and axis function. We specify the number of rows and columns\n",
    "ax[0][0].scatter(X[['0']],y, color='red')  #our scatter plot\n",
    "ax[0][0].plot(X[['0']],lm.predict(X[['0']])) #add our regression on top\n",
    "ax[0][0].set_xlabel(\"Radius\")\n",
    "ax[0][0].set_ylabel(\"Recurrence Time\")\n",
    "ax[0][1].scatter(residuals,lm.predict(X[['0']])) #residuals vs fitted\n",
    "ax[0][1].set_xlabel(\"Residuals\")\n",
    "ax[0][1].set_ylabel(\"Fitted\")\n",
    "ax[1][0].hist(residuals)                         #a histogram of our residuals\n",
    "ax[1][0].set_xlabel(\"Residuals Histogram\")\n",
    "stats.probplot(residuals, dist=\"norm\", plot=ax[1][1]) #normal QQ plot\n",
    "ax[1][1].set_title(\"\")\n",
    "\n",
    "fig.subplots_adjust(wspace=.4,hspace=.4) #give more space between plots"
   ]
  },
  {
   "cell_type": "code",
   "execution_count": null,
   "metadata": {},
   "outputs": [],
   "source": []
  }
 ],
 "metadata": {
  "kernelspec": {
   "display_name": "Python 3",
   "language": "python",
   "name": "python3"
  },
  "language_info": {
   "codemirror_mode": {
    "name": "ipython",
    "version": 3
   },
   "file_extension": ".py",
   "mimetype": "text/x-python",
   "name": "python",
   "nbconvert_exporter": "python",
   "pygments_lexer": "ipython3",
   "version": "3.6.7"
  }
 },
 "nbformat": 4,
 "nbformat_minor": 2
}
