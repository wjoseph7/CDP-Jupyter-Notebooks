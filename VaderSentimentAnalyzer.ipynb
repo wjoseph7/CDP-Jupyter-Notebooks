{
 "cells": [
  {
   "cell_type": "code",
   "execution_count": 1,
   "metadata": {},
   "outputs": [
    {
     "name": "stderr",
     "output_type": "stream",
     "text": [
      "/home/wjoseph7/.local/lib/python2.7/site-packages/nltk/twitter/__init__.py:20: UserWarning: The twython library has not been installed. Some functionality from the twitter package will not be available.\n",
      "  warnings.warn(\"The twython library has not been installed. \"\n"
     ]
    }
   ],
   "source": [
    "import nltk.sentiment.vader as vader\n",
    "import matplotlib.pyplot as plt\n",
    "import datetime\n",
    "\n",
    "analyzer = vader.SentimentIntensityAnalyzer()\n",
    "\n",
    "dates = []\n",
    "tweetScores = []"
   ]
  },
  {
   "cell_type": "code",
   "execution_count": 2,
   "metadata": {},
   "outputs": [
    {
     "ename": "IOError",
     "evalue": "[Errno 2] No such file or directory: 'unitedAirlineTweets.txt'",
     "output_type": "error",
     "traceback": [
      "\u001b[0;31m---------------------------------------------------------------------------\u001b[0m",
      "\u001b[0;31mIOError\u001b[0m                                   Traceback (most recent call last)",
      "\u001b[0;32m<ipython-input-2-46d0bb684b3f>\u001b[0m in \u001b[0;36m<module>\u001b[0;34m()\u001b[0m\n\u001b[1;32m      1\u001b[0m \u001b[0;31m#Read in the tweets\u001b[0m\u001b[0;34m\u001b[0m\u001b[0;34m\u001b[0m\u001b[0m\n\u001b[0;32m----> 2\u001b[0;31m \u001b[0;32mwith\u001b[0m \u001b[0mopen\u001b[0m\u001b[0;34m(\u001b[0m\u001b[0;34m\"unitedAirlineTweets.txt\"\u001b[0m\u001b[0;34m,\u001b[0m \u001b[0;34m\"r\"\u001b[0m\u001b[0;34m)\u001b[0m \u001b[0;32mas\u001b[0m \u001b[0mf\u001b[0m\u001b[0;34m:\u001b[0m\u001b[0;34m\u001b[0m\u001b[0m\n\u001b[0m\u001b[1;32m      3\u001b[0m     \u001b[0mtweets\u001b[0m \u001b[0;34m=\u001b[0m \u001b[0mf\u001b[0m\u001b[0;34m.\u001b[0m\u001b[0mreadlines\u001b[0m\u001b[0;34m(\u001b[0m\u001b[0;34m)\u001b[0m\u001b[0;34m\u001b[0m\u001b[0m\n\u001b[1;32m      4\u001b[0m     \u001b[0;32mfor\u001b[0m \u001b[0mtweet\u001b[0m \u001b[0;32min\u001b[0m \u001b[0mtweets\u001b[0m\u001b[0;34m:\u001b[0m\u001b[0;34m\u001b[0m\u001b[0m\n\u001b[1;32m      5\u001b[0m         \u001b[0msplit\u001b[0m \u001b[0;34m=\u001b[0m \u001b[0mtweet\u001b[0m\u001b[0;34m.\u001b[0m\u001b[0msplit\u001b[0m\u001b[0;34m(\u001b[0m\u001b[0;34m\" \"\u001b[0m\u001b[0;34m,\u001b[0m\u001b[0;36m2\u001b[0m\u001b[0;34m)\u001b[0m\u001b[0;34m\u001b[0m\u001b[0m\n",
      "\u001b[0;31mIOError\u001b[0m: [Errno 2] No such file or directory: 'unitedAirlineTweets.txt'"
     ]
    }
   ],
   "source": [
    "#Read in the tweets\n",
    "with open(\"unitedAirlineTweets.txt\", \"r\") as f:\n",
    "    tweets = f.readlines()\n",
    "    for tweet in tweets:\n",
    "        split = tweet.split(\" \",2)                                                                                                                                                           \n",
    "        a = split[0]\n",
    "        b = split[-1]\n",
    "        tweet = [a,b]                                                                                                                                                                             \n",
    "\n",
    "        score = analyzer.polarity_scores(tweet[1])['compound']\n",
    "\n",
    "        dates.append(tweet[0])\n",
    "        tweetScores.append(score)                                                                                                                                                                             \n",
    "f.close()"
   ]
  },
  {
   "cell_type": "code",
   "execution_count": null,
   "metadata": {},
   "outputs": [],
   "source": [
    "#Sorting by dates\n",
    "strp = datetime.datetime.strptime\n",
    "\n",
    "tweets = sorted(zip(dates,tweetScores),  key=lambda d: (strp(d[0],\"%Y-%m-%d\"), d[1]))"
   ]
  },
  {
   "cell_type": "code",
   "execution_count": null,
   "metadata": {},
   "outputs": [],
   "source": [
    "#Daily averages\n",
    "dates = []\n",
    "scores = []\n",
    "\n",
    "j=1\n",
    "for i in range(len(tweets)):\n",
    "    if i==0 or dates[-1] != tweets[i][0]:\n",
    "        dates.append(tweets[i][0])\n",
    "        scores.append(tweets[i][1])\n",
    "        replicates.append(1)\n",
    "        j=1\n",
    "    else:\n",
    "        scores[-1] += tweets[i][1]\n",
    "        j += 1\n",
    "\n",
    "        if i+1 < len(tweets) and tweets[i+1][0] != tweets[i][0]:\n",
    "            replicates.append(j)\n",
    "            scores[-1] /= j\n",
    "        elif i == len(tweets)-1:\n",
    "            replicates.append(j)\n",
    "            scores[-1] /= j"
   ]
  },
  {
   "cell_type": "code",
   "execution_count": null,
   "metadata": {},
   "outputs": [],
   "source": [
    "#Plot results\n",
    "fig = plt.figure(1)\n",
    "ax = fig.add_subplot(111)\n",
    "ax.plot(dates,scores)\n",
    "\n",
    "xticks =[\"2017-01-01\", \"2017-02-01\", \"2017-03-01\", \"2017-04-01\", \"2017-05-01\", \"2017-06-01\", \"2017-07-01\", \"2017-08-01\", \"2017-09-01\", \"2017-10-01\", \"2017-11-01\", \"2017-12-01\"]\n",
    "\n",
    "ax.xaxis.set_ticks(xticks)\n",
    "ax.xaxis.set_ticklabels(xticks)\n",
    "ax.set_ylabel(\"Sentiment Score\")\n",
    "ax.set_xlabel(\"Date\")"
   ]
  }
 ],
 "metadata": {
  "kernelspec": {
   "display_name": "Python 2",
   "language": "python",
   "name": "python2"
  },
  "language_info": {
   "codemirror_mode": {
    "name": "ipython",
    "version": 2
   },
   "file_extension": ".py",
   "mimetype": "text/x-python",
   "name": "python",
   "nbconvert_exporter": "python",
   "pygments_lexer": "ipython2",
   "version": "2.7.15rc1"
  }
 },
 "nbformat": 4,
 "nbformat_minor": 2
}
