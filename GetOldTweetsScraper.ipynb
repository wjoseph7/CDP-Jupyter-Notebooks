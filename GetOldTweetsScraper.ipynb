{
 "cells": [
  {
   "cell_type": "code",
   "execution_count": null,
   "metadata": {},
   "outputs": [],
   "source": [
    "#This allows us to compare date and time in time easily\n",
    "import datetime"
   ]
  },
  {
   "cell_type": "code",
   "execution_count": null,
   "metadata": {},
   "outputs": [],
   "source": [
    "#open file to write tweets two\n",
    "f = open(\"unitedAirlineTweets.txt\", \"a\")"
   ]
  },
  {
   "cell_type": "code",
   "execution_count": null,
   "metadata": {},
   "outputs": [],
   "source": [
    "#setup\n",
    "date1 = datetime.datetime(2017, 01, 01)\n",
    "date2 = date1 + datetime.timedelta(days=1)\n",
    "\n",
    "finaltime = datetime.datetime(2018,01,01)"
   ]
  },
  {
   "cell_type": "code",
   "execution_count": null,
   "metadata": {},
   "outputs": [],
   "source": [
    "#Scraping loop\n",
    "\n",
    "#This continuously scrapes 1000 tweets within a 24 hour period and then writes it to a file.\n",
    "#The loop terminates when final time is reached\n",
    "\n",
    "#It does take a few hours to run so I've provided the prescraped data\n",
    "while date2 < finaltime:\n",
    "            date1str = str(date1).split(' ')[0]\n",
    "            date2str = str(date2).split(' ')[0]\n",
    "\n",
    "            print(date1str)\n",
    "\n",
    "            tweetCriteria = got.manager.TweetCriteria().setHashtag(\"unitedAIRLINES\").setSince(date1str).\\\n",
    "            setUntil(date2str).setMaxTweets(1000)\n",
    "            tweets = got.manager.TweetManager.getTweets(tweetCriteria)\n",
    "\n",
    "            date1 += datetime.timedelta(days=1)\n",
    "            date2 += datetime.timedelta(days=1)\n",
    "\n",
    "            for tweet in tweets:\n",
    "                f.write(str(tweet.date))\n",
    "                f.write(\" \")\n",
    "                f.write(tweet.text.encode('utf-8'))\n",
    "                f.write(\"\\n\")"
   ]
  },
  {
   "cell_type": "code",
   "execution_count": null,
   "metadata": {},
   "outputs": [],
   "source": [
    "#Always remember to close the file\n",
    "f.close()"
   ]
  }
 ],
 "metadata": {
  "kernelspec": {
   "display_name": "Python 2",
   "language": "python",
   "name": "python2"
  },
  "language_info": {
   "codemirror_mode": {
    "name": "ipython",
    "version": 2
   },
   "file_extension": ".py",
   "mimetype": "text/x-python",
   "name": "python",
   "nbconvert_exporter": "python",
   "pygments_lexer": "ipython2",
   "version": "2.7.15rc1"
  }
 },
 "nbformat": 4,
 "nbformat_minor": 2
}
