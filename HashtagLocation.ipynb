{
 "cells": [
  {
   "cell_type": "code",
   "execution_count": 7,
   "metadata": {},
   "outputs": [],
   "source": [
    "import os\n",
    "import sys\n",
    "from tweepy import API\n",
    "from tweepy import OAuthHandler\n",
    "from tweepy import Cursor\n",
    "import csv\n",
    "import datetime as dt"
   ]
  },
  {
   "cell_type": "code",
   "execution_count": 8,
   "metadata": {},
   "outputs": [],
   "source": [
    "def get_twitter_auth():\n",
    "    callback_url = \"https://github.com/wjoseph7/CDP-Jupyter-Notebooks\"\n",
    "    try:\n",
    "        consumer_key = os.environ['TWITTER_CONSUMER_KEY']\n",
    "        consumer_secret = os.environ['TWITTER_CONSUMER_SECRET']\n",
    "        access_token = os.environ['TWITTER_ACCESS_TOKEN']\n",
    "        access_secret = os.environ['TWITTER_ACCESS_SECRET']\n",
    "    except KeyError:\n",
    "        sys.stderr.write(\"TWITTER_* environment variables not set\\n\")\n",
    "        sys.exit(-1)\n",
    "    auth = OAuthHandler(consumer_key, consumer_secret)\n",
    "    auth.set_access_token(access_token, access_secret)\n",
    "    return auth"
   ]
  },
  {
   "cell_type": "code",
   "execution_count": 9,
   "metadata": {},
   "outputs": [],
   "source": [
    "def get_twitter_client():\n",
    "    auth = get_twitter_auth()\n",
    "    client = API(auth, wait_on_rate_limit=True)\n",
    "    return client"
   ]
  },
  {
   "cell_type": "code",
   "execution_count": 10,
   "metadata": {},
   "outputs": [],
   "source": [
    "hashtag=\"#unitedAIRLINES\""
   ]
  },
  {
   "cell_type": "code",
   "execution_count": 18,
   "metadata": {},
   "outputs": [],
   "source": [
    "client = get_twitter_client()\n",
    "csvFile = open('ua.csv', 'a')\n",
    "csvWriter = csv.writer(csvFile)\n",
    "\n",
    "tweet_batch = Cursor(client.search,q=\"#unitedAIRLINES\",count=100).items()\n",
    "\n",
    "for tweet in tweet_batch:\n",
    "    csvWriter.writerow([tweet.coordinates, tweet.text.encode('utf-8')])\n",
    "csvFile.close()"
   ]
  },
  {
   "cell_type": "code",
   "execution_count": 14,
   "metadata": {},
   "outputs": [
    {
     "name": "stdout",
     "output_type": "stream",
     "text": [
      "['', '\"Houston', '\"Denver', '', '', '', 'Bangalore', 'Bangalore', 'Bangalore', '\"Honolulu', '\"Houston', 'Flying', '', '\"Hesperia', '\"Hesperia', '', '', '\"Hesperia', '', '\"Tampa', '\"Morro Bay', '\"Morro Bay', '', 'South Carolina', '', '\"Enfield', '\"Chicago', '\"25.296445', '\"Berlin', '', 'London', 'New Jersey', 'London', '', 'United States', '\"Washington', 'New York USA', '\"Delray Beach', '\"Campbellsville', 'United States', '', 'Planet Earth', '\"Oklahoma City', '\"San Francisco', '\"St Louis', '', '\"SLC', '\"West Palm Beach', '', '\"Atlanta', '', '\"San Francisco', 'United States', '\"Los Angeles', '', '', '\"Manhattan', '', '\"San Francisco', 'United States', '\"Oregon', '\"Asheville', 'Hawaii', '', '\"Richmond', '', '\"St. Louis', 'Somewhere Reclaiming My Time', '\\U0001f961', '\"Udupi', '\"St. Louis', '', 'From Kansas lives in So Cal', 'Worldwide', '', '\"Franklin Park', '\"Wood Dale', '\"Bartlett', 'Standing w VETERANS & LEOs', 'Global', '\"Dallas', '\"Connecticut', '', 'Flying', '\"Erbil', '\"Chicago', '\"Cebu City', '', '\"Chicago', 'Michigan ', 'Michigan ', 'Michigan ', '', '\"New York', '\"New York', '\"Far East', '\"Scottsdale', '', '0208 819 9853', 'www.facebook.com/jennaleetv', '\"Nairobi', '\"Texas', 'On the pacific', '', 'Los Angeles', '\"Washington', '', '', '', '', '', '', '', '', '\"Vancouver', '', 'Undisclosed location', 'Los Angeles', 'Bay Area', 'Worldwide', '\"Chicago', '\"Petaluma', 'United States', 'Manta - Ecuador', 'New York', 'Panama', '\"İstanbul', '\"New York', '\"Scottsdale', '\"Silverthorne', 'Chicago', '\"ÜT: 17.714866', '\"Arkansas', 'Chicago', 'México DF', 'Chicago', 'Chicago', '', '', '', 'United Kingdom', '\"Lower East Side', '', '\"Sofia', '\"Dublin', '\"Hashimoto', '\"San Jose', '\"New Jersey', 'SFO international airport', 'SFO', '', '\"Detroit', '', 'Chicago', '', '\"Moorpark', '', 'Earth', '\"Lima', '\"Lima', '\"New York', 'New York City', '', '\"Newark', 'New Jersey', '\"New York', '', 'Oklahoma', '', '', '\"Brooklyn', '', '\"Illinois', '\"Rogers', '\"Scottsdale', '', '\"Salt Lake City', '\"Salt Lake City', 'The Philippines', '\"Scottsdale', '', '\"Louisville', '', '\"Red Bank', 'maui', '\"Kaohsiung City', 'United Kingdom', '\"Scottsdale', '\"Cleveland', '\"Dublin', '', '\"Columbus', '', '\"South East', '\"Texas', '', '\"Fort Irwin', 'United Kingdom', '\"South East', '\"Papillion', '', '\"Los Angeles', 'Panama', 'Chicago+ the whole world', '', 'LA LA land', '\"Los Angeles', 'Los Angeles', '\"Los Angeles', '\"Brooklyn', '\"Council Bluffs', '', '', '', 'Chicago', '', '\"Lawrence', '\"Winston-Salem', '', '\"Honolulu', '', 'Seattle', '\"Scottsdale', '\"Honolulu', '\"Humboldt County', '', 'New Jersey', '\"Sofia', '\"Dublin', 'New York City', 'San Francisco', '\"Springfield', 'Qatar', 'Slovenia', '', 'Earth', 'Ecuador', '', '', 'Dusseldorf  - Germany', 'Worldwide', 'Worldwide', 'Paris CDG', '\"Captain Cook', 'Metro Manila Philippines', 'worldwide ✈', '\"Captain Cook', '', '\"San Diego', '\"San Antonio', 'United States', 'World Wide', 'Earth', 'Dallas Texas ', '\"Moorpark', '\"Tomball', '\"Tomball', '\"Tomball', 'Shadow Hills CA', '\"Tomball', '\"Arcata', 'Worldwide', 'Earth', 'Jersey Girl', '\"Morristown', '\"Sacramento', 'iPhone:', '\"Perth', '\"Reno', '', '', 'DUS', '', '', '\"Campinas', 'Sky', '\"Oakland', 'Worldwide', '\"LAX area', '\"Asheville', 'Dublin', 'Dusseldorf', '\"Asheville', '\"Cleveland', '', '\"Chattanooga', '\"Winston-Salem', '\"Illinois', '\"Winston-Salem', '\"Winston-Salem', '\"Scottsdale', '\"Erbil', '\"Maywood', '\"45.054603', '', '\"Rocklin', 'Minnesota', '\"Phagwara', 'Croatia', '', '\"Scottsdale', 'SoFlo', '\"Manchester', '', '\"Scottsdale', '', '\"Scottsdale', 'ÜT:', '', '', 'United States', '地球', '\"Illinois', '\"Atlanta', '', 'Chicago', 'Northern California', 'Toronto', '\"melb', 'California', '\"Bay Area', '', 'United States', 'Chicago', '\"Scottsdale', '', '', '', '', '\"Sofia', '\"Dublin', 'Connecticut', '\"Salisbury', '', '\"San Francisco', '\"Burbank', '\"Burbank', '\"Scottsdale', '48 Countries & Counting!', 'Chicago+ the whole world', 'Washington DC', 'Republica Dominicana', 'United Kingdom', 'Worldwide', '', 'United States', '\"Scottsdale', 'Ecuador', 'ここ。', 'ここ。', 'Worldwide', '', 'New Jersey', '\"Hyderabad', '', '\"Orlando', 'Japan', '\"San Francisco', '大阪のどこか', '\"Orlando', '\"New York', '\"Houston', '', '\"Texas', 'India', 'Hong Kong', '大阪府', '\"Norwood', '\"Santa Rosa', '\"Monterrey', '\"Santa Rosa', 'Gulf Shores', '', 'Connecticut', '\"Texas', '\"Sydney', '', '\"Texas', '', 'No. CA', 'No. CA', '\"Dallas', 'United States', 'Flying', '\"Scottsdale', '\"England', '', '\"Dallas', '\"Scottsdale', '\"Michigan', '\"Michigan', 'Global', 'Probably working....:-/', '\"Victoria-Fraserview', '\"Las Vegas', '\"Columbus', '127.0.0.1:area707', '\"Columbus', '', '\"Columbus', 'Omnipresent', '\"Watertown', '\"Florida', '', 'NYC', '', '', '', '', '', '', 'Worldwide', '\"New York', '', '', 'Worldwide', 'Worldwide', 'Earth', 'Earth', 'Worldwide', 'Earth', '\"next stop ✈ Kansas City', '\"next stop ✈ Kansas City', '\"New York', '', '\"mars', '\"Dallas', 'Humboldt County', '', '\"Arcata', '\"Humboldt County', '\"Raleigh', '\"Staten Island', '\"Boston', 'San Francisco ', '', 'Worldwide', 'Earth', '', '', '', 'New Jersey', '\"London', '', 'Worldwide', '\"New York', '', '\"New York', '\"New York', '\"London', '\"New York', '\"Fresno', '\"Chicago', '\"Bakersfield', '', '', '\"Toledo', '\"San Francisco', '\"Arvada', '\"Dallas', '', 'worldwide ✈', '\"Seattle', 'United States', '\"weston', '\"Toronto', 'Los a', '\"St. Louis', '\"St. Louis', '\"Scottsdale', 'Flying', '\"Toronto', '', '\"Toronto', '', 'Canada', 'Zeppplin in low earth orbit.', '\"Honolulu', '\"Grand Forks', 'Planet Earth', '', '', 'Worldwide', '', 'Grand Forks ND', '\"England', 'New Jersey', '\"Colorado', 'worldwide ✈', '', '', '\"Amsterdam', '鹿児島', '\"Cleveland', 'Worldwide', '\"Bay area', '\"Los Angeles', '日本', '', 'Reno', 'Reno', 'Reno', 'Reno', 'Reno', 'Reno', 'Reno', '\"Rocklin', 'ミキャン県→トンキン', '\"Illinois', '\"here', '\"Morro Bay', '\"Morro Bay', 'Worldwide', 'UK/Spain/Gibraltar', '\"Rocklin', '', '', '\"Rocklin', '', '\"Denver', '\"Scottsdale', 'tokyo Japan', 'United States', 'Missouri', 'Missouri', '\"San Francisco', '\"Rocklin', '🏠 KC | 📍Chicago', '\"Rocklin', '\"Porterville', '\"Rocklin', '\"Rocklin', '\"Rocklin', '\"Denver', '富士山南麓 SHIZUOKA JAPAN', '🏠 KC | 📍Chicago', '', '\"Dallas', '\"Westlake Village', '', 'Up in the air', 'Salt', '\"Rocklin', '羽田空港から北東へ1マイル', 'Healthy Living Anywhere', '\"Cincinnati', 'Ecuador', 'St. Maarten', '', 'United Kingdom', 'Hereford', '\"Denver', 'Worldwide', '\"Cardiff', 'ここ。', '', '\"Berlin', '\"Texas', '', 'T.O. Have Passport will Travel', 'San Francisco', '', '\"Rocklin', '\"Largo', '', '\"Knoxville', '\"Houston', '🏠 KC | 📍Chicago', '', '', 'SFO | HNL | NRT', '\"Bay Area', \"View John's TEDx Arena Circle\", '\"Avon', '\"Rocklin', '\"Rocklin', '', '', 'LAX', '\"Rocklin', '', '\"Tokyo', '\"Rocklin', '\"Rocklin', '\"Rocklin', '\"Rocklin', '', '', '', '\"Humboldt County', '\"Rocklin', 'Islas Canarias', '', '', '\"Playa del Rey', '中国広州、香港、千葉成田空港の近く、京都', '\"Sintra', '\"Hyderabad']\n"
     ]
    }
   ],
   "source": [
    "locations = []\n",
    "with open('ua.csv','r') as f:\n",
    "    lines = f.readlines()\n",
    "    for line in lines:\n",
    "        line = line.split(\",\")\n",
    "        locations.append(line[0])\n",
    "f.close()\n",
    "print(locations)"
   ]
  },
  {
   "cell_type": "code",
   "execution_count": 17,
   "metadata": {},
   "outputs": [
    {
     "name": "stdout",
     "output_type": "stream",
     "text": [
      "['\"Houston', '\"Denver', '', '', '', 'Bangalore', 'Bangalore', 'Bangalore', '\"Honolulu', '\"Houston', 'Flying', '', '\"Hesperia', '\"Hesperia', '', '', '\"Hesperia', '', '\"Tampa', '\"Morro Bay', '\"Morro Bay', '', 'South Carolina', '', '\"Enfield', '\"Chicago', '\"25.296445', '\"Berlin', '', 'London', 'New Jersey', 'London', '', 'United States', '\"Washington', 'New York USA', '\"Delray Beach', '\"Campbellsville', 'United States', '', 'Planet Earth', '\"Oklahoma City', '\"San Francisco', '\"St Louis', '', '\"SLC', '\"West Palm Beach', '', '\"Atlanta', '', '\"San Francisco', 'United States', '\"Los Angeles', '', '', '\"Manhattan', '', '\"San Francisco', 'United States', '\"Oregon', '\"Asheville', 'Hawaii', '', '\"Richmond', '', '\"St. Louis', 'Somewhere Reclaiming My Time', '\\U0001f961', '\"Udupi', '\"St. Louis', '', 'From Kansas lives in So Cal', 'Worldwide', '', '\"Franklin Park', '\"Wood Dale', '\"Bartlett', 'Standing w VETERANS & LEOs', 'Global', '\"Dallas', '\"Connecticut', '', 'Flying', '\"Erbil', '\"Chicago', '\"Cebu City', '', '\"Chicago', 'Michigan ', 'Michigan ', 'Michigan ', '', '\"New York', '\"New York', '\"Far East', '\"Scottsdale', '', '0208 819 9853', 'www.facebook.com/jennaleetv', '\"Nairobi', '\"Texas', 'On the pacific', '', 'Los Angeles', '\"Washington', '', '', '', '', '', '', '', '', '\"Vancouver', '', 'Undisclosed location', 'Los Angeles', 'Bay Area', 'Worldwide', '\"Chicago', '\"Petaluma', 'United States', 'Manta - Ecuador', 'New York', 'Panama', '\"İstanbul', '\"New York', '\"Scottsdale', '\"Silverthorne', 'Chicago', '\"ÜT: 17.714866', '\"Arkansas', 'Chicago', 'México DF', 'Chicago', 'Chicago', '', '', '', 'United Kingdom', '\"Lower East Side', '', '\"Sofia', '\"Dublin', '\"Hashimoto', '\"San Jose', '\"New Jersey', 'SFO international airport', 'SFO', '', '\"Detroit', '', 'Chicago', '', '\"Moorpark', '', 'Earth', '\"Lima', '\"Lima', '\"New York', 'New York City', '', '\"Newark', 'New Jersey', '\"New York', '', 'Oklahoma', '', '', '\"Brooklyn', '', '\"Illinois', '\"Rogers', '\"Scottsdale', '', '\"Salt Lake City', '\"Salt Lake City', 'The Philippines', '\"Scottsdale', '', '\"Louisville', '', '\"Red Bank', 'maui', '\"Kaohsiung City', 'United Kingdom', '\"Scottsdale', '\"Cleveland', '\"Dublin', '', '\"Columbus', '', '\"South East', '\"Texas', '', '\"Fort Irwin', 'United Kingdom', '\"South East', '\"Papillion', '', '\"Los Angeles', 'Panama', 'Chicago+ the whole world', '', 'LA LA land', '\"Los Angeles', 'Los Angeles', '\"Los Angeles', '\"Brooklyn', '\"Council Bluffs', '', '', '', 'Chicago', '', '\"Lawrence', '\"Winston-Salem', '', '\"Honolulu', '', 'Seattle', '\"Scottsdale', '\"Honolulu', '\"Humboldt County', '', 'New Jersey', '\"Sofia', '\"Dublin', 'New York City', 'San Francisco', '\"Springfield', 'Qatar', 'Slovenia', '', 'Earth', 'Ecuador', '', '', 'Dusseldorf  - Germany', 'Worldwide', 'Worldwide', 'Paris CDG', '\"Captain Cook', 'Metro Manila Philippines', 'worldwide ✈', '\"Captain Cook', '', '\"San Diego', '\"San Antonio', 'United States', 'World Wide', 'Earth', 'Dallas Texas ', '\"Moorpark', '\"Tomball', '\"Tomball', '\"Tomball', 'Shadow Hills CA', '\"Tomball', '\"Arcata', 'Worldwide', 'Earth', 'Jersey Girl', '\"Morristown', '\"Sacramento', 'iPhone:', '\"Perth', '\"Reno', '', '', 'DUS', '', '', '\"Campinas', 'Sky', '\"Oakland', 'Worldwide', '\"LAX area', '\"Asheville', 'Dublin', 'Dusseldorf', '\"Asheville', '\"Cleveland', '', '\"Chattanooga', '\"Winston-Salem', '\"Illinois', '\"Winston-Salem', '\"Winston-Salem', '\"Scottsdale', '\"Erbil', '\"Maywood', '\"45.054603', '', '\"Rocklin', 'Minnesota', '\"Phagwara', 'Croatia', '', '\"Scottsdale', 'SoFlo', '\"Manchester', '', '\"Scottsdale', '', '\"Scottsdale', 'ÜT:', '', '', 'United States', '地球', '\"Illinois', '\"Atlanta', '', 'Chicago', 'Northern California', 'Toronto', '\"melb', 'California', '\"Bay Area', '', 'United States', 'Chicago', '\"Scottsdale', '', '', '', '', '\"Sofia', '\"Dublin', 'Connecticut', '\"Salisbury', '', '\"San Francisco', '\"Burbank', '\"Burbank', '\"Scottsdale', '48 Countries & Counting!', 'Chicago+ the whole world', 'Washington DC', 'Republica Dominicana', 'United Kingdom', 'Worldwide', '', 'United States', '\"Scottsdale', 'Ecuador', 'ここ。', 'ここ。', 'Worldwide', '', 'New Jersey', '\"Hyderabad', '', '\"Orlando', 'Japan', '\"San Francisco', '大阪のどこか', '\"Orlando', '\"New York', '\"Houston', '', '\"Texas', 'India', 'Hong Kong', '大阪府', '\"Norwood', '\"Santa Rosa', '\"Monterrey', '\"Santa Rosa', 'Gulf Shores', '', 'Connecticut', '\"Texas', '\"Sydney', '', '\"Texas', '', 'No. CA', 'No. CA', '\"Dallas', 'United States', 'Flying', '\"Scottsdale', '\"England', '', '\"Dallas', '\"Scottsdale', '\"Michigan', '\"Michigan', 'Global', 'Probably working....:-/', '\"Victoria-Fraserview', '\"Las Vegas', '\"Columbus', '127.0.0.1:area707', '\"Columbus', '', '\"Columbus', 'Omnipresent', '\"Watertown', '\"Florida', '', 'NYC', '', '', '', '', '', '', 'Worldwide', '\"New York', '', '', 'Worldwide', 'Worldwide', 'Earth', 'Earth', 'Worldwide', 'Earth', '\"next stop ✈ Kansas City', '\"next stop ✈ Kansas City', '\"New York', '', '\"mars', '\"Dallas', 'Humboldt County', '', '\"Arcata', '\"Humboldt County', '\"Raleigh', '\"Staten Island', '\"Boston', 'San Francisco ', '', 'Worldwide', 'Earth', '', '', '', 'New Jersey', '\"London', '', 'Worldwide', '\"New York', '', '\"New York', '\"New York', '\"London', '\"New York', '\"Fresno', '\"Chicago', '\"Bakersfield', '', '', '\"Toledo', '\"San Francisco', '\"Arvada', '\"Dallas', '', 'worldwide ✈', '\"Seattle', 'United States', '\"weston', '\"Toronto', 'Los a', '\"St. Louis', '\"St. Louis', '\"Scottsdale', 'Flying', '\"Toronto', '', '\"Toronto', '', 'Canada', 'Zeppplin in low earth orbit.', '\"Honolulu', '\"Grand Forks', 'Planet Earth', '', '', 'Worldwide', '', 'Grand Forks ND', '\"England', 'New Jersey', '\"Colorado', 'worldwide ✈', '', '', '\"Amsterdam', '鹿児島', '\"Cleveland', 'Worldwide', '\"Bay area', '\"Los Angeles', '日本', '', 'Reno', 'Reno', 'Reno', 'Reno', 'Reno', 'Reno', 'Reno', '\"Rocklin', 'ミキャン県→トンキン', '\"Illinois', '\"here', '\"Morro Bay', '\"Morro Bay', 'Worldwide', 'UK/Spain/Gibraltar', '\"Rocklin', '', '', '\"Rocklin', '', '\"Denver', '\"Scottsdale', 'tokyo Japan', 'United States', 'Missouri', 'Missouri', '\"San Francisco', '\"Rocklin', '🏠 KC | 📍Chicago', '\"Rocklin', '\"Porterville', '\"Rocklin', '\"Rocklin', '\"Rocklin', '\"Denver', '富士山南麓 SHIZUOKA JAPAN', '🏠 KC | 📍Chicago', '', '\"Dallas', '\"Westlake Village', '', 'Up in the air', 'Salt', '\"Rocklin', '羽田空港から北東へ1マイル', 'Healthy Living Anywhere', '\"Cincinnati', 'Ecuador', 'St. Maarten', '', 'United Kingdom', 'Hereford', '\"Denver', 'Worldwide', '\"Cardiff', 'ここ。', '', '\"Berlin', '\"Texas', '', 'T.O. Have Passport will Travel', 'San Francisco', '', '\"Rocklin', '\"Largo', '', '\"Knoxville', '\"Houston', '🏠 KC | 📍Chicago', '', '', 'SFO | HNL | NRT', '\"Bay Area', \"View John's TEDx Arena Circle\", '\"Avon', '\"Rocklin', '\"Rocklin', '', '', 'LAX', '\"Rocklin', '', '\"Tokyo', '\"Rocklin', '\"Rocklin', '\"Rocklin', '\"Rocklin', '', '', '', '\"Humboldt County', '\"Rocklin', 'Islas Canarias', '', '', '\"Playa del Rey', '中国広州、香港、千葉成田空港の近く、京都', '\"Sintra', '\"Hyderabad']\n"
     ]
    }
   ],
   "source": [
    "list(filter(('').__ne__, locations))\n",
    "print(locations)"
   ]
  },
  {
   "cell_type": "code",
   "execution_count": null,
   "metadata": {},
   "outputs": [],
   "source": []
  }
 ],
 "metadata": {
  "kernelspec": {
   "display_name": "Python 3",
   "language": "python",
   "name": "python3"
  },
  "language_info": {
   "codemirror_mode": {
    "name": "ipython",
    "version": 3
   },
   "file_extension": ".py",
   "mimetype": "text/x-python",
   "name": "python",
   "nbconvert_exporter": "python",
   "pygments_lexer": "ipython3",
   "version": "3.6.6"
  }
 },
 "nbformat": 4,
 "nbformat_minor": 2
}
