{
 "cells": [
  {
   "cell_type": "markdown",
   "metadata": {},
   "source": [
    "This is code to solve a boundary valued partial differential equation using the relaxation method. Since this is a data science class we're not particularly interested in the PDE. However, since we're solving a PDE on a grid we can't plot the answer with a typical 2D graph. We need to use a heat map"
   ]
  },
  {
   "cell_type": "code",
   "execution_count": 4,
   "metadata": {},
   "outputs": [],
   "source": [
    "#necessary imports\n",
    "from numpy import diag, linspace, matrix, zeros, transpose, sin, exp, inf, pi\n",
    "from numpy.linalg import norm\n",
    "from copy import deepcopy\n",
    "from matplotlib.pyplot import plot, scatter, imshow, show, title, xlabel, ylabel, figure, legend"
   ]
  },
  {
   "cell_type": "code",
   "execution_count": 5,
   "metadata": {},
   "outputs": [],
   "source": [
    "#implements the relaxation algorithm\n",
    "def Relax(N=20, omegat=1.5, tol=1e-5,plotIts=False):\n",
    "    #Initialize constants and matrix\n",
    "    h = 1/float(N)\n",
    "\n",
    "    phi = matrix(zeros((N,N)))\n",
    "\n",
    "    #Set boundary condition\n",
    "    x = linspace(0,1, num=N)\n",
    "    phi[N-1,:] = matrix(x*(1-x))\n",
    "\n",
    "    #Implement relaxation method\n",
    "    E = []\n",
    "    while True:\n",
    "        difference = 0\n",
    "        for i in range(1,N-1):\n",
    "            for j in range(1,N-1):\n",
    "                phiOld = phi[i,j]\n",
    "                phi[i,j] = (1-omegat)*phi[i,j] + (omegat/4.0)*(phi[i+1,j]\n",
    "                                            +phi[i-1,j]\n",
    "                                            +phi[i,j+1]\n",
    "                                            +phi[i,j-1])\n",
    "                difference += abs(phi[i,j] - phiOld)\n",
    "        difference /= float(N**2)\n",
    "\n",
    "        if plotIts == True:\n",
    "            E.append(Int(phi))\n",
    "\n",
    "        if difference < tol:\n",
    "            break\n",
    "\n",
    "    return phi"
   ]
  },
  {
   "cell_type": "code",
   "execution_count": 6,
   "metadata": {},
   "outputs": [
    {
     "data": {
      "text/plain": [
       "[Text(0,0.5,'Y')]"
      ]
     },
     "execution_count": 6,
     "metadata": {},
     "output_type": "execute_result"
    },
    {
     "data": {
      "image/png": "[encoded data removed]",
      "text/plain": [
       "<Figure size 432x288 with 1 Axes>"
      ]
     },
     "metadata": {
      "needs_background": "light"
     },
     "output_type": "display_data"
    }
   ],
   "source": [
    "#Runs relaxation algorithm on 100 x 100 grid\n",
    "#The initial condition is a sinusoid on the x axis\n",
    "phi = Relax(N=100)\n",
    "\n",
    "#Creates a figure object and add 1 subplot\n",
    "fig = figure(1)\n",
    "plot = fig.add_subplot(111)\n",
    "\n",
    "#Create heat map\n",
    "plot.imshow(phi, cmap='hot', interpolation='nearest')\n",
    "plot.set(title=\"Heat Map\")\n",
    "plot.set(xlabel = \"X\")\n",
    "plot.set(ylabel = \"Y\")"
   ]
  },
  {
   "cell_type": "markdown",
   "metadata": {},
   "source": [
    "Looks pretty sweet! Now let's backtrack to our Yelp example."
   ]
  },
  {
   "cell_type": "code",
   "execution_count": 3,
   "metadata": {},
   "outputs": [],
   "source": [
    "#Yelp setup\n",
    "import pandas as pd\n",
    "import seaborn as sb\n",
    "\n",
    "yelp = pd.read_csv('yelp.csv')\n",
    "yelp['text length'] = yelp['text'].apply(len)"
   ]
  },
  {
   "cell_type": "markdown",
   "metadata": {},
   "source": [
    "Yelp reviews have star ratings. They also have cool, useful, and funny tags other users can use to comment on a particular rating."
   ]
  },
  {
   "cell_type": "code",
   "execution_count": 4,
   "metadata": {},
   "outputs": [
    {
     "data": {
      "text/html": [
       "<div>\n",
       "<style scoped>\n",
       "    .dataframe tbody tr th:only-of-type {\n",
       "        vertical-align: middle;\n",
       "    }\n",
       "\n",
       "    .dataframe tbody tr th {\n",
       "        vertical-align: top;\n",
       "    }\n",
       "\n",
       "    .dataframe thead th {\n",
       "        text-align: right;\n",
       "    }\n",
       "</style>\n",
       "<table border=\"1\" class=\"dataframe\">\n",
       "  <thead>\n",
       "    <tr style=\"text-align: right;\">\n",
       "      <th></th>\n",
       "      <th>cool</th>\n",
       "      <th>useful</th>\n",
       "      <th>funny</th>\n",
       "      <th>text length</th>\n",
       "    </tr>\n",
       "  </thead>\n",
       "  <tbody>\n",
       "    <tr>\n",
       "      <th>cool</th>\n",
       "      <td>1.000000</td>\n",
       "      <td>-0.743329</td>\n",
       "      <td>-0.944939</td>\n",
       "      <td>-0.857651</td>\n",
       "    </tr>\n",
       "    <tr>\n",
       "      <th>useful</th>\n",
       "      <td>-0.743329</td>\n",
       "      <td>1.000000</td>\n",
       "      <td>0.894506</td>\n",
       "      <td>0.699895</td>\n",
       "    </tr>\n",
       "    <tr>\n",
       "      <th>funny</th>\n",
       "      <td>-0.944939</td>\n",
       "      <td>0.894506</td>\n",
       "      <td>1.000000</td>\n",
       "      <td>0.843463</td>\n",
       "    </tr>\n",
       "    <tr>\n",
       "      <th>text length</th>\n",
       "      <td>-0.857651</td>\n",
       "      <td>0.699895</td>\n",
       "      <td>0.843463</td>\n",
       "      <td>1.000000</td>\n",
       "    </tr>\n",
       "  </tbody>\n",
       "</table>\n",
       "</div>"
      ],
      "text/plain": [
       "                 cool    useful     funny  text length\n",
       "cool         1.000000 -0.743329 -0.944939    -0.857651\n",
       "useful      -0.743329  1.000000  0.894506     0.699895\n",
       "funny       -0.944939  0.894506  1.000000     0.843463\n",
       "text length -0.857651  0.699895  0.843463     1.000000"
      ]
     },
     "execution_count": 4,
     "metadata": {},
     "output_type": "execute_result"
    }
   ],
   "source": [
    "#Let's see what happens if we group the data by star rating and plot the correlations between the cool, useful, and funny\n",
    "#tags\n",
    "stars = yelp.groupby('stars').mean()\n",
    "stars.corr()"
   ]
  },
  {
   "cell_type": "markdown",
   "metadata": {},
   "source": [
    "Okay, that's some useful information. However, it's not very easy to visualize. Seaborn can fix this problem."
   ]
  },
  {
   "cell_type": "code",
   "execution_count": 5,
   "metadata": {},
   "outputs": [
    {
     "data": {
      "text/plain": [
       "<matplotlib.axes._subplots.AxesSubplot at 0x7fd0aca38b90>"
      ]
     },
     "execution_count": 5,
     "metadata": {},
     "output_type": "execute_result"
    },
    {
     "data": {
      "image/png": "[encoded data removed]",
      "text/plain": [
       "<Figure size 432x288 with 2 Axes>"
      ]
     },
     "metadata": {
      "needs_background": "light"
     },
     "output_type": "display_data"
    }
   ],
   "source": [
    "sb.heatmap(data=stars.corr(), annot=True)"
   ]
  },
  {
   "cell_type": "markdown",
   "metadata": {},
   "source": [
    "Much easier to visualize!"
   ]
  }
 ],
 "metadata": {
  "kernelspec": {
   "display_name": "Python 2",
   "language": "python",
   "name": "python2"
  },
  "language_info": {
   "codemirror_mode": {
    "name": "ipython",
    "version": 2
   },
   "file_extension": ".py",
   "mimetype": "text/x-python",
   "name": "python",
   "nbconvert_exporter": "python",
   "pygments_lexer": "ipython2",
   "version": "2.7.15rc1"
  }
 },
 "nbformat": 4,
 "nbformat_minor": 2
}
